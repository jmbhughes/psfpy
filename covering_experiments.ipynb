{
 "cells": [
  {
   "cell_type": "code",
   "execution_count": 77,
   "outputs": [],
   "source": [
    "import numpy as np\n",
    "import matplotlib.pyplot as plt\n",
    "from psfpy.corrector import calculate_covering, ArrayCorrector\n",
    "import matplotlib.patches as patches"
   ],
   "metadata": {
    "collapsed": false
   }
  },
  {
   "cell_type": "code",
   "execution_count": 2,
   "outputs": [],
   "source": [
    "def get_padded_img_section(padded_img, x, y, psf_size) -> np.ndarray:\n",
    "    \"\"\" Assumes an image is padded by ((2*psf_size, 2*psf_size), (2*psf_size, 2*psf_size))\"\"\"\n",
    "    x_prime, y_prime = x + 2*psf_size, y + 2*psf_size\n",
    "    return padded_img[x_prime: x_prime + psf_size, y_prime: y_prime + psf_size]\n",
    "\n",
    "\n",
    "def set_padded_img_section(padded_img, x, y, psf_size, new_values) -> None:\n",
    "    assert new_values.shape == (psf_size, psf_size)\n",
    "    x_prime, y_prime = x + 2*psf_size, y + 2*psf_size\n",
    "    padded_img[x_prime: x_prime + psf_size, y_prime: y_prime + psf_size] = new_values\n",
    "\n",
    "\n",
    "def add_padded_img_section(padded_img, x, y, psf_size, new_values) -> None:\n",
    "    assert new_values.shape == (psf_size, psf_size)\n",
    "    prior = get_padded_img_section(padded_img, x, y, psf_size)\n",
    "    set_padded_img_section(padded_img, x, y, psf_size, new_values + prior)"
   ],
   "metadata": {
    "collapsed": false
   }
  },
  {
   "cell_type": "code",
   "execution_count": 165,
   "outputs": [],
   "source": [
    "def new_calculate_covering(image_shape: tuple[int, int], size: int) -> np.ndarray:\n",
    "    half_size = np.ceil(size / 2).astype(int)\n",
    "    quarter_size = np.ceil(size / 4).astype(int)\n",
    "    # x1, y1 are the primary grid. x2, y2 are the offset grid. Together they fully cover the image twice.\n",
    "    x1 = np.arange(0, image_shape[0], size)\n",
    "    y1 = np.arange(0, image_shape[1], size)\n",
    "\n",
    "    x2 = np.arange(-half_size, image_shape[0]+half_size, size)\n",
    "    y2 = np.arange(-half_size, image_shape[1]+half_size, size)\n",
    "\n",
    "    x3 = np.arange(-half_size, image_shape[0]+half_size, size)\n",
    "    y3 = np.arange(0, image_shape[1], size)\n",
    "\n",
    "    x4 = np.arange(0, image_shape[0], size)\n",
    "    y4 = np.arange(-half_size, image_shape[1]+half_size, size)\n",
    "\n",
    "    x5 = np.arange(-quarter_size, image_shape[0]+quarter_size, size)\n",
    "    y5 = np.arange(-quarter_size, image_shape[1]+quarter_size, size)\n",
    "\n",
    "    x6 = np.arange(-quarter_size, image_shape[0]+quarter_size, size)\n",
    "    y6 = np.arange(0, image_shape[1], size)\n",
    "\n",
    "    x7 = np.arange(0, image_shape[0], size)\n",
    "    y7 = np.arange(-quarter_size, image_shape[1]+quarter_size, size)\n",
    "\n",
    "    x8 = np.arange(size, image_shape[0]+size, size)\n",
    "    y8 = np.arange(size, image_shape[1]+size, size)\n",
    "\n",
    "    x1, y1 = np.meshgrid(x1, y1)\n",
    "    x2, y2 = np.meshgrid(x2, y2)\n",
    "    x3, y3 = np.meshgrid(x3, y3)\n",
    "    x4, y4 = np.meshgrid(x4, y4)\n",
    "    x5, y5 = np.meshgrid(x5, y5)\n",
    "    x6, y6 = np.meshgrid(x6, y6)\n",
    "    x7, y7 = np.meshgrid(x7, y7)\n",
    "    x8, y8 = np.meshgrid(x8, y8)\n",
    "\n",
    "\n",
    "    x1, y1 = x1.flatten(), y1.flatten()\n",
    "    x2, y2 = x2.flatten(), y2.flatten()\n",
    "    x3, y3 = x3.flatten(), y3.flatten()\n",
    "    x4, y4 = x4.flatten(), y4.flatten()\n",
    "    x5, y5 = x5.flatten(), y5.flatten()\n",
    "    x6, y6 = x6.flatten(), y6.flatten()\n",
    "    x7, y7 = x7.flatten(), y7.flatten()\n",
    "    x8, y8 = x8.flatten(), y8.flatten()\n",
    "\n",
    "\n",
    "    x = np.concatenate([x1, x2, x3, x4])\n",
    "    y = np.concatenate([y1, y2, y3, y4])\n",
    "    print(x.shape, y.shape)\n",
    "    return np.stack([x, y], -1)"
   ],
   "metadata": {
    "collapsed": false
   }
  },
  {
   "cell_type": "code",
   "execution_count": 166,
   "outputs": [],
   "source": [
    "def see_apodization_impact(corners, img_shape, patch_size):\n",
    "    counts = np.zeros(img_shape)\n",
    "    counts = np.pad(counts, ((2*patch_size, 2*patch_size), (2*patch_size, 2*patch_size)), mode='constant')\n",
    "\n",
    "    xx, yy = np.meshgrid(np.arange(patch_size), np.arange(patch_size))\n",
    "    apodization_window = np.square(np.sin((xx+0.5)*np.pi/patch_size)) * np.square(np.sin((yy+0.5)*np.pi/patch_size))\n",
    "    apodization_window = np.square(np.sin((xx+0.5)*(np.pi/patch_size))) * np.square(np.sin((yy+0.5)*(np.pi/patch_size)))\n",
    "    #apodization_window = np.sin((xx+0.5)*np.pi/patch_size) *np.sin((yy+0.5)*np.pi/patch_size)\n",
    "\n",
    "    # window1d = create_window(patch_size, \"cosine\")\n",
    "    # apodization_window = np.sqrt(np.outer(window1d, window1d))\n",
    "\n",
    "    for i, (x, y) in enumerate(corners):\n",
    "        prior = get_padded_img_section(counts, x, y, patch_size)\n",
    "        set_padded_img_section(counts, x, y, patch_size, prior + apodization_window)\n",
    "    return counts"
   ],
   "metadata": {
    "collapsed": false
   }
  },
  {
   "cell_type": "code",
   "execution_count": 171,
   "outputs": [
    {
     "name": "stdout",
     "output_type": "stream",
     "text": [
      "(169,) (169,)\n"
     ]
    }
   ],
   "source": [
    "img_size = 2048\n",
    "patch_size = 400\n",
    "\n",
    "cc = new_calculate_covering((img_size, img_size), patch_size)\n",
    "counts = see_apodization_impact(cc, (img_size, img_size), patch_size)"
   ],
   "metadata": {
    "collapsed": false
   }
  },
  {
   "cell_type": "code",
   "execution_count": 153,
   "outputs": [
    {
     "data": {
      "text/plain": "169"
     },
     "execution_count": 153,
     "metadata": {},
     "output_type": "execute_result"
    }
   ],
   "source": [
    "len(cc)"
   ],
   "metadata": {
    "collapsed": false
   }
  },
  {
   "cell_type": "code",
   "execution_count": 140,
   "outputs": [],
   "source": [
    "# img_size = 2048\n",
    "# patch_size = 400\n",
    "#\n",
    "# ac = ArrayCorrector.load(\"punch_array_corrector.psfpy\")\n",
    "# cc = np.array(list(ac._evaluations.keys()))\n",
    "# counts = see_apodization_impact(cc, (img_size, img_size), patch_size)"
   ],
   "metadata": {
    "collapsed": false
   }
  },
  {
   "cell_type": "code",
   "execution_count": 173,
   "outputs": [
    {
     "data": {
      "text/plain": "1.0000000000000007"
     },
     "execution_count": 173,
     "metadata": {},
     "output_type": "execute_result"
    }
   ],
   "source": [
    "np.max(counts)"
   ],
   "metadata": {
    "collapsed": false
   }
  },
  {
   "cell_type": "code",
   "execution_count": 172,
   "outputs": [
    {
     "name": "stderr",
     "output_type": "stream",
     "text": [
      "/var/folders/w3/c3fpftqj0cn3zdjqpnn7ds31hdhdts/T/ipykernel_28588/1343766235.py:5: UserWarning: Matplotlib is currently using module://matplotlib_inline.backend_inline, which is a non-GUI backend, so cannot show the figure.\n",
      "  fig.show()\n"
     ]
    },
    {
     "data": {
      "text/plain": "<Figure size 1000x1000 with 2 Axes>",
      "image/png": "[encoded data removed]"
     },
     "metadata": {},
     "output_type": "display_data"
    }
   ],
   "source": [
    "fig, ax = plt.subplots(figsize=(10, 10))\n",
    "im = ax.imshow(counts, origin='lower', cmap='Greys', interpolation='none', vmin=0, vmax=1.5)\n",
    "ax.set_axis_off()\n",
    "fig.colorbar(im)\n",
    "fig.show()"
   ],
   "metadata": {
    "collapsed": false
   }
  },
  {
   "cell_type": "markdown",
   "source": [],
   "metadata": {
    "collapsed": false
   }
  },
  {
   "cell_type": "code",
   "execution_count": 122,
   "outputs": [
    {
     "name": "stderr",
     "output_type": "stream",
     "text": [
      "/var/folders/w3/c3fpftqj0cn3zdjqpnn7ds31hdhdts/T/ipykernel_28588/292878381.py:5: UserWarning: Matplotlib is currently using module://matplotlib_inline.backend_inline, which is a non-GUI backend, so cannot show the figure.\n",
      "  fig.show()\n"
     ]
    },
    {
     "data": {
      "text/plain": "<Figure size 1000x1000 with 2 Axes>",
      "image/png": "[encoded data removed]"
     },
     "metadata": {},
     "output_type": "display_data"
    }
   ],
   "source": [
    "fig, ax = plt.subplots(figsize=(10, 10))\n",
    "im = ax.imshow(counts[patch_size*2:img_size+patch_size*2, patch_size*2:img_size+patch_size*2], origin='lower', cmap='Greys', interpolation='none', vmin=0, vmax=1)\n",
    "ax.set_axis_off()\n",
    "fig.colorbar(im)\n",
    "fig.show()"
   ],
   "metadata": {
    "collapsed": false
   }
  },
  {
   "cell_type": "code",
   "execution_count": 64,
   "outputs": [
    {
     "data": {
      "text/plain": "169"
     },
     "execution_count": 64,
     "metadata": {},
     "output_type": "execute_result"
    }
   ],
   "source": [
    "len(cc)"
   ],
   "metadata": {
    "collapsed": false
   }
  },
  {
   "cell_type": "markdown",
   "source": [
    "36 49 42 42"
   ],
   "metadata": {
    "collapsed": false
   }
  },
  {
   "cell_type": "code",
   "execution_count": 76,
   "metadata": {
    "collapsed": true
   },
   "outputs": [
    {
     "name": "stderr",
     "output_type": "stream",
     "text": [
      "/var/folders/w3/c3fpftqj0cn3zdjqpnn7ds31hdhdts/T/ipykernel_28588/2138135683.py:22: UserWarning: Matplotlib is currently using module://matplotlib_inline.backend_inline, which is a non-GUI backend, so cannot show the figure.\n",
      "  fig.show()\n"
     ]
    },
    {
     "data": {
      "text/plain": "<Figure size 640x480 with 1 Axes>",
      "image/png": "[encoded data removed]"
     },
     "metadata": {},
     "output_type": "display_data"
    }
   ],
   "source": [
    "img_size = 2048\n",
    "patch_size = 400\n",
    "\n",
    "counts = np.zeros((img_size, img_size))\n",
    "cc = calculate_covering((img_size, img_size), patch_size)[36+49+42:36+49+42+42]\n",
    "fig, ax = plt.subplots()\n",
    "for i, (x,y) in enumerate(cc):\n",
    "    random_color = (np.random.random(), np.random.random(), np.random.random(), 0.1)\n",
    "    red = (1, 0, 0, 0.25)\n",
    "    blue = (0, 0, 1, 0.25)\n",
    "    rect = patches.Rectangle((x, y), patch_size, patch_size, linewidth=1,\n",
    "                             edgecolor='r',\n",
    "                             facecolor=red)\n",
    "    ax.add_patch(rect)\n",
    "\n",
    "    counts[np.max([0, y]):np.min([img_size, y+patch_size]), np.max([0, x]):np.min([img_size, x+patch_size])] += 1\n",
    "rect = patches.Rectangle((0, 0), img_size, img_size, linewidth=5, edgecolor='k', facecolor='none')\n",
    "ax.add_patch(rect)\n",
    "ax.set_xlim((-patch_size, img_size+patch_size))\n",
    "ax.set_ylim((-patch_size, img_size+patch_size))\n",
    "ax.set_aspect(1)\n",
    "fig.show()"
   ]
  },
  {
   "cell_type": "code",
   "execution_count": 4,
   "outputs": [
    {
     "name": "stderr",
     "output_type": "stream",
     "text": [
      "/var/folders/w3/c3fpftqj0cn3zdjqpnn7ds31hdhdts/T/ipykernel_45604/2870208533.py:3: UserWarning: Matplotlib is currently using module://matplotlib_inline.backend_inline, which is a non-GUI backend, so cannot show the figure.\n",
      "  fig.show()\n"
     ]
    },
    {
     "name": "stdout",
     "output_type": "stream",
     "text": [
      "2.0 2.0\n"
     ]
    },
    {
     "data": {
      "text/plain": "<Figure size 640x480 with 1 Axes>",
      "image/png": "[encoded data removed]"
     },
     "metadata": {},
     "output_type": "display_data"
    }
   ],
   "source": [
    "fig, ax = plt.subplots()\n",
    "ax.imshow(counts==2, origin='lower')\n",
    "fig.show()\n",
    "print(np.min(counts), np.max(counts))"
   ],
   "metadata": {
    "collapsed": false
   }
  },
  {
   "cell_type": "code",
   "execution_count": 12,
   "outputs": [],
   "source": [],
   "metadata": {
    "collapsed": false
   }
  },
  {
   "cell_type": "code",
   "execution_count": 8,
   "outputs": [],
   "source": [],
   "metadata": {
    "collapsed": false
   }
  }
 ],
 "metadata": {
  "kernelspec": {
   "display_name": "Python 3",
   "language": "python",
   "name": "python3"
  },
  "language_info": {
   "codemirror_mode": {
    "name": "ipython",
    "version": 2
   },
   "file_extension": ".py",
   "mimetype": "text/x-python",
   "name": "python",
   "nbconvert_exporter": "python",
   "pygments_lexer": "ipython2",
   "version": "2.7.6"
  }
 },
 "nbformat": 4,
 "nbformat_minor": 0
}
